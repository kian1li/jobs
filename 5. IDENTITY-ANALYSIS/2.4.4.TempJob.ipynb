{
 "cells": [
  {
   "cell_type": "code",
   "execution_count": 3,
   "id": "7c0b0109-2df6-4035-ad59-f55962a472fa",
   "metadata": {},
   "outputs": [
    {
     "name": "stdout",
     "output_type": "stream",
     "text": [
      "CSV 파일이 생성되었습니다: output.csv\n"
     ]
    }
   ],
   "source": [
    "import csv\n",
    "import re\n",
    "\n",
    "# raw.txt 파일을 읽고 데이터를 변환하여 csv 파일로 저장\n",
    "\n",
    "def process_raw_file(input_file, output_file):\n",
    "    with open(input_file, 'r', encoding='utf-8') as f:\n",
    "        raw_data = f.readlines()\n",
    "\n",
    "    # 출력 데이터 리스트\n",
    "    processed_data = []\n",
    "\n",
    "    for line in raw_data:\n",
    "        # Identity_ID 추출\n",
    "        identity_match = re.search(r'Identity_id:\\s*(\\d+)', line)\n",
    "        identity_id = identity_match.group(1) if identity_match else ''\n",
    "\n",
    "        # Level 추출\n",
    "        level_match = re.search(r'Level=\\s*(\\d+)', line)\n",
    "        level = level_match.group(1) if level_match else ''\n",
    "\n",
    "        # HP 추출\n",
    "        hp_match = re.search(r'HP=\\s*(\\d+)', line)\n",
    "        hp = hp_match.group(1) if hp_match else ''\n",
    "\n",
    "        # Defense 추출\n",
    "        defense_match = re.search(r'Defense=\\s*(\\d+)', line)\n",
    "        defense = defense_match.group(1) if defense_match else ''\n",
    "\n",
    "        # Skill_Level 추출\n",
    "        skills_match = re.findall(r'(SKILL \\d+: \\d+|DEFENSE: \\d+)', line)\n",
    "        skills = str(skills_match) if skills_match else ''\n",
    "\n",
    "        # 데이터 추가\n",
    "        processed_data.append([identity_id, level, hp, defense, skills])\n",
    "\n",
    "    # CSV 파일로 저장\n",
    "    with open(output_file, 'w', newline='', encoding='utf-8') as csvfile:\n",
    "        csvwriter = csv.writer(csvfile)\n",
    "        # 헤더 작성\n",
    "        csvwriter.writerow(['Identity_ID', 'Level', 'HP', 'Defense', 'Skill_Level'])\n",
    "        # 데이터 작성\n",
    "        csvwriter.writerows(processed_data)\n",
    "\n",
    "# 함수 호출\n",
    "process_raw_file('raw.txt', 'output.csv')\n",
    "print(\"CSV 파일이 생성되었습니다: output.csv\")"
   ]
  },
  {
   "cell_type": "code",
   "execution_count": 4,
   "id": "24e440a3-a7c4-4a9a-9182-56bae0a6c3d1",
   "metadata": {},
   "outputs": [
    {
     "name": "stdout",
     "output_type": "stream",
     "text": [
      "CSV 파일 생성 완료: output.csv\n"
     ]
    }
   ],
   "source": [
    "import csv\n",
    "import re\n",
    "\n",
    "# raw.txt 파일 읽기\n",
    "with open(\"output.csv\", \"r\", encoding=\"utf-8\") as file:\n",
    "    lines = file.readlines()\n",
    "\n",
    "# 추출된 데이터를 저장할 리스트\n",
    "data = []\n",
    "\n",
    "# Identity_ID 추출 및 초기화\n",
    "identity_id = None\n",
    "\n",
    "for line in lines:\n",
    "    line = line.strip()\n",
    "    if not line:\n",
    "        continue\n",
    "\n",
    "    # Identity_ID가 있는 줄인지 확인\n",
    "    match_identity = re.match(r\"^(\\d+),\", line)\n",
    "    if match_identity:\n",
    "        identity_id = match_identity.group(1)\n",
    "\n",
    "    # 데이터 추출\n",
    "    match_data = re.match(r\"^,(\\d+),(\\d+),(\\d+),(.+)$\", line)\n",
    "    if match_data and identity_id:\n",
    "        level = match_data.group(1)\n",
    "        hp = match_data.group(2)\n",
    "        defense = match_data.group(3)\n",
    "        skill_level = match_data.group(4)\n",
    "        data.append([identity_id, level, hp, defense, skill_level])\n",
    "\n",
    "# CSV 파일로 저장\n",
    "with open(\"output2.csv\", \"w\", encoding=\"utf-8\", newline=\"\") as csvfile:\n",
    "    writer = csv.writer(csvfile)\n",
    "    # 헤더 작성\n",
    "    writer.writerow([\"Identity_ID\", \"Level\", \"HP\", \"Defense\", \"Skill_Level\"])\n",
    "    # 데이터 작성\n",
    "    writer.writerows(data)\n",
    "\n",
    "print(\"CSV 파일 생성 완료: output.csv\")\n"
   ]
  },
  {
   "cell_type": "code",
   "execution_count": null,
   "id": "6ab5f274-cd46-4f85-b36d-e2c1fa87c26c",
   "metadata": {},
   "outputs": [],
   "source": []
  }
 ],
 "metadata": {
  "kernelspec": {
   "display_name": "Python 3 (ipykernel)",
   "language": "python",
   "name": "python3"
  },
  "language_info": {
   "codemirror_mode": {
    "name": "ipython",
    "version": 3
   },
   "file_extension": ".py",
   "mimetype": "text/x-python",
   "name": "python",
   "nbconvert_exporter": "python",
   "pygments_lexer": "ipython3",
   "version": "3.12.9"
  }
 },
 "nbformat": 4,
 "nbformat_minor": 5
}
